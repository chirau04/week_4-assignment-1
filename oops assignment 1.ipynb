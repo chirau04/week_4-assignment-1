{
 "cells": [
  {
   "cell_type": "code",
   "execution_count": 8,
   "id": "02896684-2a9c-4dd5-8087-ac9a0cd18576",
   "metadata": {},
   "outputs": [],
   "source": [
    "class Vehicle: \n",
    "    def __init__(self, name, max_speed, average_speed):\n",
    "        self.name = name\n",
    "        self.max_speed = max_speed\n",
    "        self.average_speed = average_speed"
   ]
  },
  {
   "cell_type": "code",
   "execution_count": 9,
   "id": "f1e9d0d3-6147-477b-aa23-a944b1f391c6",
   "metadata": {},
   "outputs": [],
   "source": [
    "car = Vehicle (name=\"car\", max_speed= 200, average_speed= 60)"
   ]
  },
  {
   "cell_type": "code",
   "execution_count": 11,
   "id": "76d78540-d00f-4019-8e1f-0637c7054809",
   "metadata": {},
   "outputs": [],
   "source": [
    "class Car(Vehicle):\n",
    "    def SeatingCapacity(self,capacity):\n",
    "        return f\"{self.name} has a seating capacity of {capacity}.\""
   ]
  },
  {
   "cell_type": "code",
   "execution_count": 12,
   "id": "2b38dddd-5329-4cb4-a65f-8b1374cfa430",
   "metadata": {},
   "outputs": [],
   "source": [
    "car_instance = Car(name=\"sedan\", max_speed= 180, average_speed= 50)"
   ]
  },
  {
   "cell_type": "code",
   "execution_count": 13,
   "id": "c936370f-8070-47e0-83b6-a221f8c17aa4",
   "metadata": {},
   "outputs": [],
   "source": [
    "seating_capacity_info = car_instance.SeatingCapacity(capacity = 5)"
   ]
  },
  {
   "cell_type": "code",
   "execution_count": 15,
   "id": "d7accb6e-44d6-464e-9bd4-65d8622e3557",
   "metadata": {},
   "outputs": [
    {
     "name": "stdout",
     "output_type": "stream",
     "text": [
      "sedan has a seating capacity of 5.\n"
     ]
    }
   ],
   "source": [
    "print(seating_capacity_info)"
   ]
  },
  {
   "cell_type": "code",
   "execution_count": 18,
   "id": "1fe71e6a-da46-4d6a-addc-aec2ba73baa1",
   "metadata": {},
   "outputs": [],
   "source": [
    "class Engine:\n",
    "    def start(self) : \n",
    "        return\"Engine started\""
   ]
  },
  {
   "cell_type": "code",
   "execution_count": 19,
   "id": "47b8d372-6e2e-4c58-a1e8-9286efc38a84",
   "metadata": {},
   "outputs": [],
   "source": [
    "class ElectricMotor:\n",
    "    def charge(self):\n",
    "        return \"Electric motor charged\""
   ]
  },
  {
   "cell_type": "code",
   "execution_count": 20,
   "id": "1a4dd5b6-2590-421d-9586-0b2c934736a3",
   "metadata": {},
   "outputs": [],
   "source": [
    "class  HybridCar(Engine, ElectricMotor):\n",
    "    def drive(self):\n",
    "        return \"hybrid car is driving\""
   ]
  },
  {
   "cell_type": "code",
   "execution_count": 21,
   "id": "37b3ec14-3e65-4213-a0ab-03283ce54134",
   "metadata": {},
   "outputs": [],
   "source": [
    "hybrid_car = HybridCar()"
   ]
  },
  {
   "cell_type": "code",
   "execution_count": 22,
   "id": "5fe524e3-4a83-49f0-8122-efcc097d40ab",
   "metadata": {},
   "outputs": [],
   "source": [
    "start_message = hybrid_car.start()"
   ]
  },
  {
   "cell_type": "code",
   "execution_count": 23,
   "id": "ed80e589-4e28-4358-9220-a549cf5ae187",
   "metadata": {},
   "outputs": [],
   "source": [
    "charge_message = hybrid_car.charge()"
   ]
  },
  {
   "cell_type": "code",
   "execution_count": 24,
   "id": "1759556a-be97-46ef-b16d-8ed10520b2d8",
   "metadata": {},
   "outputs": [],
   "source": [
    "drive_message = hybrid_car.drive()"
   ]
  },
  {
   "cell_type": "code",
   "execution_count": 25,
   "id": "2cdeeb8b-eb5b-4a1e-a853-30395dc46b32",
   "metadata": {},
   "outputs": [
    {
     "name": "stdout",
     "output_type": "stream",
     "text": [
      "Engine started\n"
     ]
    }
   ],
   "source": [
    "print(start_message)"
   ]
  },
  {
   "cell_type": "code",
   "execution_count": 26,
   "id": "23a23658-c194-4e24-864d-ee22750455fa",
   "metadata": {},
   "outputs": [
    {
     "name": "stdout",
     "output_type": "stream",
     "text": [
      "Electric motor charged\n"
     ]
    }
   ],
   "source": [
    "print(charge_message)"
   ]
  },
  {
   "cell_type": "code",
   "execution_count": 27,
   "id": "ec330ac1-3de9-44fa-a060-6d10a9257674",
   "metadata": {},
   "outputs": [
    {
     "name": "stdout",
     "output_type": "stream",
     "text": [
      "hybrid car is driving\n"
     ]
    }
   ],
   "source": [
    "print(drive_message)"
   ]
  },
  {
   "cell_type": "code",
   "execution_count": 28,
   "id": "43e220e3-e8fa-4cc6-995c-bae45e65ed95",
   "metadata": {},
   "outputs": [],
   "source": [
    "class Rectangle:\n",
    "    def __init__(self, width, height):\n",
    "        self._width = width # Prefixing with '_' indicates it's a protected Variable\n",
    "        self._height = height"
   ]
  },
  {
   "cell_type": "markdown",
   "id": "d41ebc2f-b5c3-4e51-9346-14c4d20bc89d",
   "metadata": {},
   "source": [
    "# getter method for width"
   ]
  },
  {
   "cell_type": "code",
   "execution_count": 29,
   "id": "a090c4a4-c5a4-4053-96f0-cff18cfe8f7b",
   "metadata": {},
   "outputs": [],
   "source": [
    "def get_width(self):\n",
    "    return self._width"
   ]
  },
  {
   "cell_type": "markdown",
   "id": "8d6b10fa-a413-42ed-b17b-e68373001c62",
   "metadata": {},
   "source": [
    "# setter method for width"
   ]
  },
  {
   "cell_type": "code",
   "execution_count": 35,
   "id": "fe5d2971-f245-4f36-ba62-cdb606c55af9",
   "metadata": {},
   "outputs": [],
   "source": [
    "def set_width(self, width):\n",
    "    if width > 0:\n",
    "        self._width = width \n",
    "    else : \n",
    "            print(\"width must be greater than 0\")"
   ]
  },
  {
   "cell_type": "code",
   "execution_count": 36,
   "id": "4e9d2daf-db1f-4698-94cb-a9dac0574a02",
   "metadata": {},
   "outputs": [],
   "source": [
    "rectangle = Rectangle(width=5,height=8)"
   ]
  },
  {
   "cell_type": "code",
   "execution_count": 47,
   "id": "b79dc6e9-4fe2-4efb-95c9-2856edb58569",
   "metadata": {},
   "outputs": [
    {
     "ename": "AttributeError",
     "evalue": "'Rectangle' object has no attribute 'get_width'",
     "output_type": "error",
     "traceback": [
      "\u001b[0;31m---------------------------------------------------------------------------\u001b[0m",
      "\u001b[0;31mAttributeError\u001b[0m                            Traceback (most recent call last)",
      "Cell \u001b[0;32mIn[47], line 2\u001b[0m\n\u001b[1;32m      1\u001b[0m \u001b[38;5;28mprint\u001b[39m(\u001b[38;5;124m\"\u001b[39m\u001b[38;5;124mWidth:\u001b[39m\u001b[38;5;124m\"\u001b[39m, \n\u001b[0;32m----> 2\u001b[0m \u001b[43mrectangle\u001b[49m\u001b[38;5;241;43m.\u001b[39;49m\u001b[43m \u001b[49m\u001b[43mget_width\u001b[49m())\n",
      "\u001b[0;31mAttributeError\u001b[0m: 'Rectangle' object has no attribute 'get_width'"
     ]
    }
   ],
   "source": [
    "print(\"Width:\", \n",
    "rectangle. get_width())"
   ]
  },
  {
   "cell_type": "code",
   "execution_count": 46,
   "id": "b666a466-9177-4f2e-b8ff-820a9254170b",
   "metadata": {},
   "outputs": [
    {
     "ename": "AttributeError",
     "evalue": "'Rectangle' object has no attribute 'set_width'",
     "output_type": "error",
     "traceback": [
      "\u001b[0;31m---------------------------------------------------------------------------\u001b[0m",
      "\u001b[0;31mAttributeError\u001b[0m                            Traceback (most recent call last)",
      "Cell \u001b[0;32mIn[46], line 1\u001b[0m\n\u001b[0;32m----> 1\u001b[0m \u001b[43mrectangle\u001b[49m\u001b[43m  \u001b[49m\u001b[38;5;241;43m.\u001b[39;49m\u001b[43mset_width\u001b[49m(\u001b[38;5;241m10\u001b[39m)\n",
      "\u001b[0;31mAttributeError\u001b[0m: 'Rectangle' object has no attribute 'set_width'"
     ]
    }
   ],
   "source": [
    "rectangle  .set_width(10)"
   ]
  },
  {
   "cell_type": "code",
   "execution_count": 48,
   "id": "e3225a60-8684-43c8-baf2-ffb6a8067628",
   "metadata": {},
   "outputs": [],
   "source": [
    "class Animal:\n",
    "    def make_sound(self):\n",
    "        return \"generic animal sound\""
   ]
  },
  {
   "cell_type": "code",
   "execution_count": 49,
   "id": "59569228-9f7e-4182-99cb-305805d5a0de",
   "metadata": {},
   "outputs": [],
   "source": [
    "class Dog(Animal):\n",
    "    def make_sound(self):\n",
    "        return \"bark! bark!\""
   ]
  },
  {
   "cell_type": "code",
   "execution_count": 50,
   "id": "d045e7b9-dd7e-418b-8996-10f83d707e6c",
   "metadata": {},
   "outputs": [],
   "source": [
    "class Cat(Animal):\n",
    "    def make_sound(self):\n",
    "        return \"meow\""
   ]
  },
  {
   "cell_type": "code",
   "execution_count": 51,
   "id": "6344d549-64c3-4be8-afc7-8f70c9c497a5",
   "metadata": {},
   "outputs": [],
   "source": [
    "generic_animal = Animal()\n",
    "dog = Dog()\n",
    "cat = Cat()"
   ]
  },
  {
   "cell_type": "code",
   "execution_count": 52,
   "id": "629b633b-b081-4ba0-8e5d-e6594d0756c0",
   "metadata": {},
   "outputs": [
    {
     "name": "stdout",
     "output_type": "stream",
     "text": [
      "Generic Animal Sound: generic animal sound\n"
     ]
    }
   ],
   "source": [
    "print(\"Generic Animal Sound:\", generic_animal.make_sound())"
   ]
  },
  {
   "cell_type": "code",
   "execution_count": 53,
   "id": "9ac9c68f-76ac-44c6-923d-99e60b5f9994",
   "metadata": {},
   "outputs": [
    {
     "name": "stdout",
     "output_type": "stream",
     "text": [
      "Dog Sound: bark! bark!\n"
     ]
    }
   ],
   "source": [
    "print(\"Dog Sound:\", dog.make_sound())"
   ]
  },
  {
   "cell_type": "code",
   "execution_count": null,
   "id": "1fca0452-1af7-4dcf-87c9-f072ba611d77",
   "metadata": {},
   "outputs": [],
   "source": [
    "print(\"Cat Sound:"
   ]
  }
 ],
 "metadata": {
  "kernelspec": {
   "display_name": "Python 3 (ipykernel)",
   "language": "python",
   "name": "python3"
  },
  "language_info": {
   "codemirror_mode": {
    "name": "ipython",
    "version": 3
   },
   "file_extension": ".py",
   "mimetype": "text/x-python",
   "name": "python",
   "nbconvert_exporter": "python",
   "pygments_lexer": "ipython3",
   "version": "3.10.8"
  }
 },
 "nbformat": 4,
 "nbformat_minor": 5
}
